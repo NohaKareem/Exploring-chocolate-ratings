{
 "cells": [
  {
   "cell_type": "code",
   "execution_count": 1,
   "metadata": {},
   "outputs": [
    {
     "data": {
      "text/html": [
       "<div>\n",
       "<style scoped>\n",
       "    .dataframe tbody tr th:only-of-type {\n",
       "        vertical-align: middle;\n",
       "    }\n",
       "\n",
       "    .dataframe tbody tr th {\n",
       "        vertical-align: top;\n",
       "    }\n",
       "\n",
       "    .dataframe thead th {\n",
       "        text-align: right;\n",
       "    }\n",
       "</style>\n",
       "<table border=\"1\" class=\"dataframe\">\n",
       "  <thead>\n",
       "    <tr style=\"text-align: right;\">\n",
       "      <th></th>\n",
       "      <th>REF</th>\n",
       "      <th>Review Date</th>\n",
       "      <th>Rating</th>\n",
       "    </tr>\n",
       "  </thead>\n",
       "  <tbody>\n",
       "    <tr>\n",
       "      <th>count</th>\n",
       "      <td>1795.000000</td>\n",
       "      <td>1795.000000</td>\n",
       "      <td>1795.000000</td>\n",
       "    </tr>\n",
       "    <tr>\n",
       "      <th>mean</th>\n",
       "      <td>1035.904735</td>\n",
       "      <td>2012.325348</td>\n",
       "      <td>3.185933</td>\n",
       "    </tr>\n",
       "    <tr>\n",
       "      <th>std</th>\n",
       "      <td>552.886365</td>\n",
       "      <td>2.927210</td>\n",
       "      <td>0.478062</td>\n",
       "    </tr>\n",
       "    <tr>\n",
       "      <th>min</th>\n",
       "      <td>5.000000</td>\n",
       "      <td>2006.000000</td>\n",
       "      <td>1.000000</td>\n",
       "    </tr>\n",
       "    <tr>\n",
       "      <th>25%</th>\n",
       "      <td>576.000000</td>\n",
       "      <td>2010.000000</td>\n",
       "      <td>2.875000</td>\n",
       "    </tr>\n",
       "    <tr>\n",
       "      <th>50%</th>\n",
       "      <td>1069.000000</td>\n",
       "      <td>2013.000000</td>\n",
       "      <td>3.250000</td>\n",
       "    </tr>\n",
       "    <tr>\n",
       "      <th>75%</th>\n",
       "      <td>1502.000000</td>\n",
       "      <td>2015.000000</td>\n",
       "      <td>3.500000</td>\n",
       "    </tr>\n",
       "    <tr>\n",
       "      <th>max</th>\n",
       "      <td>1952.000000</td>\n",
       "      <td>2017.000000</td>\n",
       "      <td>5.000000</td>\n",
       "    </tr>\n",
       "  </tbody>\n",
       "</table>\n",
       "</div>"
      ],
      "text/plain": [
       "               REF  Review Date       Rating\n",
       "count  1795.000000  1795.000000  1795.000000\n",
       "mean   1035.904735  2012.325348     3.185933\n",
       "std     552.886365     2.927210     0.478062\n",
       "min       5.000000  2006.000000     1.000000\n",
       "25%     576.000000  2010.000000     2.875000\n",
       "50%    1069.000000  2013.000000     3.250000\n",
       "75%    1502.000000  2015.000000     3.500000\n",
       "max    1952.000000  2017.000000     5.000000"
      ]
     },
     "execution_count": 1,
     "metadata": {},
     "output_type": "execute_result"
    }
   ],
   "source": [
    "import pandas as pd\n",
    "import matplotlib.pyplot as mpl\n",
    "\n",
    "data = pd.read_csv('flavors_of_cacao.csv')\n",
    "data.describe()\n",
    "#data.shape\n",
    "#data.info()"
   ]
  },
  {
   "cell_type": "code",
   "execution_count": 2,
   "metadata": {},
   "outputs": [
    {
     "data": {
      "text/html": [
       "<div>\n",
       "<style scoped>\n",
       "    .dataframe tbody tr th:only-of-type {\n",
       "        vertical-align: middle;\n",
       "    }\n",
       "\n",
       "    .dataframe tbody tr th {\n",
       "        vertical-align: top;\n",
       "    }\n",
       "\n",
       "    .dataframe thead th {\n",
       "        text-align: right;\n",
       "    }\n",
       "</style>\n",
       "<table border=\"1\" class=\"dataframe\">\n",
       "  <thead>\n",
       "    <tr style=\"text-align: right;\">\n",
       "      <th></th>\n",
       "      <th>Company (Maker-if known)</th>\n",
       "      <th>Specific Bean Origin or Bar Name</th>\n",
       "      <th>REF</th>\n",
       "      <th>Review Date</th>\n",
       "      <th>Cocoa Percent</th>\n",
       "      <th>Company Location</th>\n",
       "      <th>Rating</th>\n",
       "      <th>Bean Type</th>\n",
       "      <th>Broad Bean Origin</th>\n",
       "    </tr>\n",
       "  </thead>\n",
       "  <tbody>\n",
       "    <tr>\n",
       "      <th>0</th>\n",
       "      <td>A. Morin</td>\n",
       "      <td>Agua Grande</td>\n",
       "      <td>1876</td>\n",
       "      <td>2016</td>\n",
       "      <td>63%</td>\n",
       "      <td>France</td>\n",
       "      <td>3.75</td>\n",
       "      <td></td>\n",
       "      <td>Sao Tome</td>\n",
       "    </tr>\n",
       "    <tr>\n",
       "      <th>1</th>\n",
       "      <td>A. Morin</td>\n",
       "      <td>Kpime</td>\n",
       "      <td>1676</td>\n",
       "      <td>2015</td>\n",
       "      <td>70%</td>\n",
       "      <td>France</td>\n",
       "      <td>2.75</td>\n",
       "      <td></td>\n",
       "      <td>Togo</td>\n",
       "    </tr>\n",
       "    <tr>\n",
       "      <th>2</th>\n",
       "      <td>A. Morin</td>\n",
       "      <td>Atsane</td>\n",
       "      <td>1676</td>\n",
       "      <td>2015</td>\n",
       "      <td>70%</td>\n",
       "      <td>France</td>\n",
       "      <td>3.00</td>\n",
       "      <td></td>\n",
       "      <td>Togo</td>\n",
       "    </tr>\n",
       "    <tr>\n",
       "      <th>3</th>\n",
       "      <td>A. Morin</td>\n",
       "      <td>Akata</td>\n",
       "      <td>1680</td>\n",
       "      <td>2015</td>\n",
       "      <td>70%</td>\n",
       "      <td>France</td>\n",
       "      <td>3.50</td>\n",
       "      <td></td>\n",
       "      <td>Togo</td>\n",
       "    </tr>\n",
       "    <tr>\n",
       "      <th>4</th>\n",
       "      <td>A. Morin</td>\n",
       "      <td>Quilla</td>\n",
       "      <td>1704</td>\n",
       "      <td>2015</td>\n",
       "      <td>70%</td>\n",
       "      <td>France</td>\n",
       "      <td>3.50</td>\n",
       "      <td></td>\n",
       "      <td>Peru</td>\n",
       "    </tr>\n",
       "  </tbody>\n",
       "</table>\n",
       "</div>"
      ],
      "text/plain": [
       "  Company (Maker-if known) Specific Bean Origin or Bar Name   REF  \\\n",
       "0                 A. Morin                      Agua Grande  1876   \n",
       "1                 A. Morin                            Kpime  1676   \n",
       "2                 A. Morin                           Atsane  1676   \n",
       "3                 A. Morin                            Akata  1680   \n",
       "4                 A. Morin                           Quilla  1704   \n",
       "\n",
       "   Review Date Cocoa Percent Company Location  Rating Bean Type  \\\n",
       "0         2016           63%           France    3.75             \n",
       "1         2015           70%           France    2.75             \n",
       "2         2015           70%           France    3.00             \n",
       "3         2015           70%           France    3.50             \n",
       "4         2015           70%           France    3.50             \n",
       "\n",
       "  Broad Bean Origin  \n",
       "0          Sao Tome  \n",
       "1              Togo  \n",
       "2              Togo  \n",
       "3              Togo  \n",
       "4              Peru  "
      ]
     },
     "execution_count": 2,
     "metadata": {},
     "output_type": "execute_result"
    }
   ],
   "source": [
    "data.head()"
   ]
  },
  {
   "cell_type": "code",
   "execution_count": 3,
   "metadata": {},
   "outputs": [
    {
     "data": {
      "text/plain": [
       "array(['Company (Maker-if known)', 'Specific Bean Origin or Bar Name',\n",
       "       'REF', 'Review Date', 'Cocoa Percent', 'Company Location',\n",
       "       'Rating', 'Bean Type', 'Broad Bean Origin'], dtype=object)"
      ]
     },
     "execution_count": 3,
     "metadata": {},
     "output_type": "execute_result"
    }
   ],
   "source": [
    "# %% Rename columns (to eliminate special characters for easier processing)\n",
    "data.columns = ['Company (Maker-if known)', 'Specific Bean Origin or Bar Name', 'REF', 'Review Date', 'Cocoa Percent', 'Company Location', 'Rating', 'Bean Type', 'Broad Bean Origin']\n",
    "data.columns.values"
   ]
  },
  {
   "cell_type": "code",
   "execution_count": 4,
   "metadata": {
    "scrolled": true
   },
   "outputs": [
    {
     "data": {
      "text/html": [
       "<div>\n",
       "<style scoped>\n",
       "    .dataframe tbody tr th:only-of-type {\n",
       "        vertical-align: middle;\n",
       "    }\n",
       "\n",
       "    .dataframe tbody tr th {\n",
       "        vertical-align: top;\n",
       "    }\n",
       "\n",
       "    .dataframe thead th {\n",
       "        text-align: right;\n",
       "    }\n",
       "</style>\n",
       "<table border=\"1\" class=\"dataframe\">\n",
       "  <thead>\n",
       "    <tr style=\"text-align: right;\">\n",
       "      <th></th>\n",
       "      <th>REF</th>\n",
       "      <th>Review Date</th>\n",
       "      <th>Cocoa Percent</th>\n",
       "      <th>Rating</th>\n",
       "    </tr>\n",
       "  </thead>\n",
       "  <tbody>\n",
       "    <tr>\n",
       "      <th>count</th>\n",
       "      <td>1795.000000</td>\n",
       "      <td>1795.000000</td>\n",
       "      <td>1795.000000</td>\n",
       "      <td>1795.000000</td>\n",
       "    </tr>\n",
       "    <tr>\n",
       "      <th>mean</th>\n",
       "      <td>1035.904735</td>\n",
       "      <td>2012.325348</td>\n",
       "      <td>71.698329</td>\n",
       "      <td>3.185933</td>\n",
       "    </tr>\n",
       "    <tr>\n",
       "      <th>std</th>\n",
       "      <td>552.886365</td>\n",
       "      <td>2.927210</td>\n",
       "      <td>6.323118</td>\n",
       "      <td>0.478062</td>\n",
       "    </tr>\n",
       "    <tr>\n",
       "      <th>min</th>\n",
       "      <td>5.000000</td>\n",
       "      <td>2006.000000</td>\n",
       "      <td>42.000000</td>\n",
       "      <td>1.000000</td>\n",
       "    </tr>\n",
       "    <tr>\n",
       "      <th>25%</th>\n",
       "      <td>576.000000</td>\n",
       "      <td>2010.000000</td>\n",
       "      <td>70.000000</td>\n",
       "      <td>2.875000</td>\n",
       "    </tr>\n",
       "    <tr>\n",
       "      <th>50%</th>\n",
       "      <td>1069.000000</td>\n",
       "      <td>2013.000000</td>\n",
       "      <td>70.000000</td>\n",
       "      <td>3.250000</td>\n",
       "    </tr>\n",
       "    <tr>\n",
       "      <th>75%</th>\n",
       "      <td>1502.000000</td>\n",
       "      <td>2015.000000</td>\n",
       "      <td>75.000000</td>\n",
       "      <td>3.500000</td>\n",
       "    </tr>\n",
       "    <tr>\n",
       "      <th>max</th>\n",
       "      <td>1952.000000</td>\n",
       "      <td>2017.000000</td>\n",
       "      <td>100.000000</td>\n",
       "      <td>5.000000</td>\n",
       "    </tr>\n",
       "  </tbody>\n",
       "</table>\n",
       "</div>"
      ],
      "text/plain": [
       "               REF  Review Date  Cocoa Percent       Rating\n",
       "count  1795.000000  1795.000000    1795.000000  1795.000000\n",
       "mean   1035.904735  2012.325348      71.698329     3.185933\n",
       "std     552.886365     2.927210       6.323118     0.478062\n",
       "min       5.000000  2006.000000      42.000000     1.000000\n",
       "25%     576.000000  2010.000000      70.000000     2.875000\n",
       "50%    1069.000000  2013.000000      70.000000     3.250000\n",
       "75%    1502.000000  2015.000000      75.000000     3.500000\n",
       "max    1952.000000  2017.000000     100.000000     5.000000"
      ]
     },
     "execution_count": 4,
     "metadata": {},
     "output_type": "execute_result"
    }
   ],
   "source": [
    "# %% remove % from Cocoa Percentage and convert to numeric data\n",
    "# (runs first time)\n",
    "data['Cocoa Percent'] = data['Cocoa Percent'].str.replace('%', '') \n",
    "data['Cocoa Percent'] = pd.to_numeric(data['Cocoa Percent']) \n",
    "data.describe()"
   ]
  },
  {
   "cell_type": "code",
   "execution_count": 5,
   "metadata": {},
   "outputs": [
    {
     "data": {
      "image/png": "[encoded data removed]",
      "text/plain": [
       "<Figure size 432x288 with 1 Axes>"
      ]
     },
     "metadata": {
      "needs_background": "light"
     },
     "output_type": "display_data"
    },
    {
     "name": "stdout",
     "output_type": "stream",
     "text": [
      "Quartiles:\n",
      "      Cocoa Percent\n",
      "0.25           70.0\n",
      "0.50           70.0\n",
      "0.75           75.0\n"
     ]
    },
    {
     "data": {
      "image/png": "[encoded data removed]",
      "text/plain": [
       "<Figure size 432x288 with 1 Axes>"
      ]
     },
     "metadata": {
      "needs_background": "light"
     },
     "output_type": "display_data"
    },
    {
     "data": {
      "image/png": "[encoded data removed]",
      "text/plain": [
       "<Figure size 432x288 with 1 Axes>"
      ]
     },
     "metadata": {
      "needs_background": "light"
     },
     "output_type": "display_data"
    },
    {
     "data": {
      "text/html": [
       "<div>\n",
       "<style scoped>\n",
       "    .dataframe tbody tr th:only-of-type {\n",
       "        vertical-align: middle;\n",
       "    }\n",
       "\n",
       "    .dataframe tbody tr th {\n",
       "        vertical-align: top;\n",
       "    }\n",
       "\n",
       "    .dataframe thead th {\n",
       "        text-align: right;\n",
       "    }\n",
       "</style>\n",
       "<table border=\"1\" class=\"dataframe\">\n",
       "  <thead>\n",
       "    <tr style=\"text-align: right;\">\n",
       "      <th></th>\n",
       "      <th>Cocoa Percent</th>\n",
       "    </tr>\n",
       "  </thead>\n",
       "  <tbody>\n",
       "    <tr>\n",
       "      <th>count</th>\n",
       "      <td>1795.000000</td>\n",
       "    </tr>\n",
       "    <tr>\n",
       "      <th>mean</th>\n",
       "      <td>71.698329</td>\n",
       "    </tr>\n",
       "    <tr>\n",
       "      <th>std</th>\n",
       "      <td>6.323118</td>\n",
       "    </tr>\n",
       "    <tr>\n",
       "      <th>min</th>\n",
       "      <td>42.000000</td>\n",
       "    </tr>\n",
       "    <tr>\n",
       "      <th>25%</th>\n",
       "      <td>70.000000</td>\n",
       "    </tr>\n",
       "    <tr>\n",
       "      <th>50%</th>\n",
       "      <td>70.000000</td>\n",
       "    </tr>\n",
       "    <tr>\n",
       "      <th>75%</th>\n",
       "      <td>75.000000</td>\n",
       "    </tr>\n",
       "    <tr>\n",
       "      <th>max</th>\n",
       "      <td>100.000000</td>\n",
       "    </tr>\n",
       "  </tbody>\n",
       "</table>\n",
       "</div>"
      ],
      "text/plain": [
       "       Cocoa Percent\n",
       "count    1795.000000\n",
       "mean       71.698329\n",
       "std         6.323118\n",
       "min        42.000000\n",
       "25%        70.000000\n",
       "50%        70.000000\n",
       "75%        75.000000\n",
       "max       100.000000"
      ]
     },
     "execution_count": 5,
     "metadata": {},
     "output_type": "execute_result"
    }
   ],
   "source": [
    "# %% display Cocoa Percentage Variation\n",
    "cocoaPercentages = pd.DataFrame(data, columns = ['Cocoa Percent'])\n",
    "cocoaPercentages.boxplot()\n",
    "mpl.suptitle(\"Fig. 1: Box plot for cocoa percentage among rated chocolate bars\")\n",
    "mpl.show() #hide plot metadata\n",
    "\n",
    "print('Quartiles:')\n",
    "print(cocoaPercentages.quantile([.25, .5, .75]))\n",
    "\n",
    "cocoaPercentages.hist(bins = 10)\n",
    "mpl.suptitle(\"Fig. 2.1: Cocoa percentage distribution (bins = 10)\")\n",
    "mpl.show()\n",
    "\n",
    "cocoaPercentages.hist(bins = 25)\n",
    "mpl.suptitle(\"Fig. 2.2: Cocoa percentage distribution (bins = 35)\")\n",
    "mpl.show()\n",
    "\n",
    "cocoaPercentages.describe()"
   ]
  },
  {
   "cell_type": "code",
   "execution_count": 7,
   "metadata": {
    "scrolled": true
   },
   "outputs": [
    {
     "data": {
      "image/png": "[encoded data removed]",
      "text/plain": [
       "<Figure size 432x288 with 1 Axes>"
      ]
     },
     "metadata": {
      "needs_background": "light"
     },
     "output_type": "display_data"
    },
    {
     "data": {
      "image/png": "[encoded data removed]",
      "text/plain": [
       "<Figure size 432x288 with 1 Axes>"
      ]
     },
     "metadata": {
      "needs_background": "light"
     },
     "output_type": "display_data"
    },
    {
     "name": "stdout",
     "output_type": "stream",
     "text": [
      "Lighter Cocoa Quartiles:\n",
      "         REF  Review Date  Cocoa Percent  Rating\n",
      "0.25   414.0       2009.0           61.0    3.00\n",
      "0.50   797.0       2012.0           65.0    3.25\n",
      "0.75  1286.0       2014.0           67.0    3.50\n",
      "Darker Cocoa Quartiles:\n",
      "         REF  Review Date  Cocoa Percent  Rating\n",
      "0.25   615.0       2010.0           78.0    2.75\n",
      "0.50  1129.0       2013.0           80.0    3.00\n",
      "0.75  1506.0       2015.0           85.0    3.25\n"
     ]
    }
   ],
   "source": [
    "# %% exploring outliers in Cocoa Percent (boxplots)\n",
    "lighterCocoaPercent = data[data['Cocoa Percent'] < 70]\n",
    "darkerCocoaPercent = data[data['Cocoa Percent'] > 75]\n",
    "\n",
    "lighterCocoaPercent.boxplot(column='Cocoa Percent')\n",
    "mpl.suptitle(\"Fig. 3.1: Box plot for outlier cocoa percentages (< 70%)\")\n",
    "mpl.show()\n",
    "\n",
    "darkerCocoaPercent.boxplot(column='Cocoa Percent')\n",
    "mpl.suptitle(\"Fig. 3.2: Box plot for outlier cocoa percentages (> 75%)\")\n",
    "mpl.show()\n",
    "\n",
    "print('Lighter Cocoa Quartiles:')\n",
    "print(lighterCocoaPercent.quantile([.25, .5, .75]))\n",
    "\n",
    "print('Darker Cocoa Quartiles:')\n",
    "print(darkerCocoaPercent.quantile([.25, .5, .75]))\n"
   ]
  },
  {
   "cell_type": "code",
   "execution_count": 9,
   "metadata": {},
   "outputs": [
    {
     "data": {
      "text/html": [
       "<div>\n",
       "<style scoped>\n",
       "    .dataframe tbody tr th:only-of-type {\n",
       "        vertical-align: middle;\n",
       "    }\n",
       "\n",
       "    .dataframe tbody tr th {\n",
       "        vertical-align: top;\n",
       "    }\n",
       "\n",
       "    .dataframe thead th {\n",
       "        text-align: right;\n",
       "    }\n",
       "</style>\n",
       "<table border=\"1\" class=\"dataframe\">\n",
       "  <thead>\n",
       "    <tr style=\"text-align: right;\">\n",
       "      <th></th>\n",
       "      <th>REF</th>\n",
       "      <th>Review Date</th>\n",
       "      <th>Cocoa Percent</th>\n",
       "      <th>Rating</th>\n",
       "    </tr>\n",
       "  </thead>\n",
       "  <tbody>\n",
       "    <tr>\n",
       "      <th>count</th>\n",
       "      <td>328.000000</td>\n",
       "      <td>328.000000</td>\n",
       "      <td>328.000000</td>\n",
       "      <td>328.000000</td>\n",
       "    </tr>\n",
       "    <tr>\n",
       "      <th>mean</th>\n",
       "      <td>861.631098</td>\n",
       "      <td>2011.411585</td>\n",
       "      <td>63.766768</td>\n",
       "      <td>3.188262</td>\n",
       "    </tr>\n",
       "    <tr>\n",
       "      <th>std</th>\n",
       "      <td>543.365704</td>\n",
       "      <td>2.987966</td>\n",
       "      <td>3.958272</td>\n",
       "      <td>0.458315</td>\n",
       "    </tr>\n",
       "    <tr>\n",
       "      <th>min</th>\n",
       "      <td>15.000000</td>\n",
       "      <td>2006.000000</td>\n",
       "      <td>42.000000</td>\n",
       "      <td>1.500000</td>\n",
       "    </tr>\n",
       "    <tr>\n",
       "      <th>25%</th>\n",
       "      <td>414.000000</td>\n",
       "      <td>2009.000000</td>\n",
       "      <td>61.000000</td>\n",
       "      <td>3.000000</td>\n",
       "    </tr>\n",
       "    <tr>\n",
       "      <th>50%</th>\n",
       "      <td>797.000000</td>\n",
       "      <td>2012.000000</td>\n",
       "      <td>65.000000</td>\n",
       "      <td>3.250000</td>\n",
       "    </tr>\n",
       "    <tr>\n",
       "      <th>75%</th>\n",
       "      <td>1286.000000</td>\n",
       "      <td>2014.000000</td>\n",
       "      <td>67.000000</td>\n",
       "      <td>3.500000</td>\n",
       "    </tr>\n",
       "    <tr>\n",
       "      <th>max</th>\n",
       "      <td>1900.000000</td>\n",
       "      <td>2016.000000</td>\n",
       "      <td>69.000000</td>\n",
       "      <td>4.000000</td>\n",
       "    </tr>\n",
       "  </tbody>\n",
       "</table>\n",
       "</div>"
      ],
      "text/plain": [
       "               REF  Review Date  Cocoa Percent      Rating\n",
       "count   328.000000   328.000000     328.000000  328.000000\n",
       "mean    861.631098  2011.411585      63.766768    3.188262\n",
       "std     543.365704     2.987966       3.958272    0.458315\n",
       "min      15.000000  2006.000000      42.000000    1.500000\n",
       "25%     414.000000  2009.000000      61.000000    3.000000\n",
       "50%     797.000000  2012.000000      65.000000    3.250000\n",
       "75%    1286.000000  2014.000000      67.000000    3.500000\n",
       "max    1900.000000  2016.000000      69.000000    4.000000"
      ]
     },
     "execution_count": 9,
     "metadata": {},
     "output_type": "execute_result"
    },
    {
     "data": {
      "image/png": "[encoded data removed]",
      "text/plain": [
       "<Figure size 432x288 with 1 Axes>"
      ]
     },
     "metadata": {
      "needs_background": "light"
     },
     "output_type": "display_data"
    }
   ],
   "source": [
    "# %% exploring outliers in Cocoa Percent (histograms + describe)\n",
    "mpl.hist([lighterCocoaPercent['Cocoa Percent'], darkerCocoaPercent['Cocoa Percent']], \n",
    "         bins = 30, alpha = 0.3, label = ['< 70% Cocoa', '> 75% Cocoa'])\n",
    "mpl.suptitle(\"Fig. 4: Outlier cocoa percentage distribution\")\n",
    "mpl.legend(loc = 'upper left')\n",
    "\n",
    "lighterCocoaPercent.describe()"
   ]
  },
  {
   "cell_type": "code",
   "execution_count": 51,
   "metadata": {},
   "outputs": [
    {
     "data": {
      "text/html": [
       "<div>\n",
       "<style scoped>\n",
       "    .dataframe tbody tr th:only-of-type {\n",
       "        vertical-align: middle;\n",
       "    }\n",
       "\n",
       "    .dataframe tbody tr th {\n",
       "        vertical-align: top;\n",
       "    }\n",
       "\n",
       "    .dataframe thead th {\n",
       "        text-align: right;\n",
       "    }\n",
       "</style>\n",
       "<table border=\"1\" class=\"dataframe\">\n",
       "  <thead>\n",
       "    <tr style=\"text-align: right;\">\n",
       "      <th></th>\n",
       "      <th>REF</th>\n",
       "      <th>Review Date</th>\n",
       "      <th>Cocoa Percent</th>\n",
       "      <th>Rating</th>\n",
       "    </tr>\n",
       "  </thead>\n",
       "  <tbody>\n",
       "    <tr>\n",
       "      <th>count</th>\n",
       "      <td>257.000000</td>\n",
       "      <td>257.000000</td>\n",
       "      <td>257.000000</td>\n",
       "      <td>257.000000</td>\n",
       "    </tr>\n",
       "    <tr>\n",
       "      <th>mean</th>\n",
       "      <td>1071.311284</td>\n",
       "      <td>2012.556420</td>\n",
       "      <td>82.595331</td>\n",
       "      <td>2.962062</td>\n",
       "    </tr>\n",
       "    <tr>\n",
       "      <th>std</th>\n",
       "      <td>546.392105</td>\n",
       "      <td>2.888171</td>\n",
       "      <td>6.471064</td>\n",
       "      <td>0.515644</td>\n",
       "    </tr>\n",
       "    <tr>\n",
       "      <th>min</th>\n",
       "      <td>15.000000</td>\n",
       "      <td>2006.000000</td>\n",
       "      <td>76.000000</td>\n",
       "      <td>1.000000</td>\n",
       "    </tr>\n",
       "    <tr>\n",
       "      <th>25%</th>\n",
       "      <td>615.000000</td>\n",
       "      <td>2010.000000</td>\n",
       "      <td>78.000000</td>\n",
       "      <td>2.750000</td>\n",
       "    </tr>\n",
       "    <tr>\n",
       "      <th>50%</th>\n",
       "      <td>1129.000000</td>\n",
       "      <td>2013.000000</td>\n",
       "      <td>80.000000</td>\n",
       "      <td>3.000000</td>\n",
       "    </tr>\n",
       "    <tr>\n",
       "      <th>75%</th>\n",
       "      <td>1506.000000</td>\n",
       "      <td>2015.000000</td>\n",
       "      <td>85.000000</td>\n",
       "      <td>3.250000</td>\n",
       "    </tr>\n",
       "    <tr>\n",
       "      <th>max</th>\n",
       "      <td>1940.000000</td>\n",
       "      <td>2017.000000</td>\n",
       "      <td>100.000000</td>\n",
       "      <td>4.000000</td>\n",
       "    </tr>\n",
       "  </tbody>\n",
       "</table>\n",
       "</div>"
      ],
      "text/plain": [
       "               REF  Review Date  Cocoa Percent      Rating\n",
       "count   257.000000   257.000000     257.000000  257.000000\n",
       "mean   1071.311284  2012.556420      82.595331    2.962062\n",
       "std     546.392105     2.888171       6.471064    0.515644\n",
       "min      15.000000  2006.000000      76.000000    1.000000\n",
       "25%     615.000000  2010.000000      78.000000    2.750000\n",
       "50%    1129.000000  2013.000000      80.000000    3.000000\n",
       "75%    1506.000000  2015.000000      85.000000    3.250000\n",
       "max    1940.000000  2017.000000     100.000000    4.000000"
      ]
     },
     "execution_count": 51,
     "metadata": {},
     "output_type": "execute_result"
    }
   ],
   "source": [
    "darkerCocoaPercent.describe()"
   ]
  },
  {
   "cell_type": "code",
   "execution_count": 10,
   "metadata": {},
   "outputs": [
    {
     "data": {
      "text/html": [
       "<div>\n",
       "<style scoped>\n",
       "    .dataframe tbody tr th:only-of-type {\n",
       "        vertical-align: middle;\n",
       "    }\n",
       "\n",
       "    .dataframe tbody tr th {\n",
       "        vertical-align: top;\n",
       "    }\n",
       "\n",
       "    .dataframe thead th {\n",
       "        text-align: right;\n",
       "    }\n",
       "</style>\n",
       "<table border=\"1\" class=\"dataframe\">\n",
       "  <thead>\n",
       "    <tr style=\"text-align: right;\">\n",
       "      <th></th>\n",
       "      <th>Company (Maker-if known)</th>\n",
       "      <th>Specific Bean Origin or Bar Name</th>\n",
       "      <th>REF</th>\n",
       "      <th>Review Date</th>\n",
       "      <th>Cocoa Percent</th>\n",
       "      <th>Company Location</th>\n",
       "      <th>Rating</th>\n",
       "      <th>Bean Type</th>\n",
       "      <th>Broad Bean Origin</th>\n",
       "    </tr>\n",
       "  </thead>\n",
       "  <tbody>\n",
       "    <tr>\n",
       "      <th>0</th>\n",
       "      <td>A. Morin</td>\n",
       "      <td>Agua Grande</td>\n",
       "      <td>1876</td>\n",
       "      <td>2016</td>\n",
       "      <td>63.0</td>\n",
       "      <td>France</td>\n",
       "      <td>3.75</td>\n",
       "      <td></td>\n",
       "      <td>Sao Tome</td>\n",
       "    </tr>\n",
       "    <tr>\n",
       "      <th>1</th>\n",
       "      <td>A. Morin</td>\n",
       "      <td>Kpime</td>\n",
       "      <td>1676</td>\n",
       "      <td>2015</td>\n",
       "      <td>70.0</td>\n",
       "      <td>France</td>\n",
       "      <td>2.75</td>\n",
       "      <td></td>\n",
       "      <td>Togo</td>\n",
       "    </tr>\n",
       "    <tr>\n",
       "      <th>2</th>\n",
       "      <td>A. Morin</td>\n",
       "      <td>Atsane</td>\n",
       "      <td>1676</td>\n",
       "      <td>2015</td>\n",
       "      <td>70.0</td>\n",
       "      <td>France</td>\n",
       "      <td>3.00</td>\n",
       "      <td></td>\n",
       "      <td>Togo</td>\n",
       "    </tr>\n",
       "    <tr>\n",
       "      <th>3</th>\n",
       "      <td>A. Morin</td>\n",
       "      <td>Akata</td>\n",
       "      <td>1680</td>\n",
       "      <td>2015</td>\n",
       "      <td>70.0</td>\n",
       "      <td>France</td>\n",
       "      <td>3.50</td>\n",
       "      <td></td>\n",
       "      <td>Togo</td>\n",
       "    </tr>\n",
       "    <tr>\n",
       "      <th>4</th>\n",
       "      <td>A. Morin</td>\n",
       "      <td>Quilla</td>\n",
       "      <td>1704</td>\n",
       "      <td>2015</td>\n",
       "      <td>70.0</td>\n",
       "      <td>France</td>\n",
       "      <td>3.50</td>\n",
       "      <td></td>\n",
       "      <td>Peru</td>\n",
       "    </tr>\n",
       "    <tr>\n",
       "      <th>5</th>\n",
       "      <td>A. Morin</td>\n",
       "      <td>Carenero</td>\n",
       "      <td>1315</td>\n",
       "      <td>2014</td>\n",
       "      <td>70.0</td>\n",
       "      <td>France</td>\n",
       "      <td>2.75</td>\n",
       "      <td>Criollo</td>\n",
       "      <td>Venezuela</td>\n",
       "    </tr>\n",
       "    <tr>\n",
       "      <th>6</th>\n",
       "      <td>A. Morin</td>\n",
       "      <td>Cuba</td>\n",
       "      <td>1315</td>\n",
       "      <td>2014</td>\n",
       "      <td>70.0</td>\n",
       "      <td>France</td>\n",
       "      <td>3.50</td>\n",
       "      <td></td>\n",
       "      <td>Cuba</td>\n",
       "    </tr>\n",
       "    <tr>\n",
       "      <th>7</th>\n",
       "      <td>A. Morin</td>\n",
       "      <td>Sur del Lago</td>\n",
       "      <td>1315</td>\n",
       "      <td>2014</td>\n",
       "      <td>70.0</td>\n",
       "      <td>France</td>\n",
       "      <td>3.50</td>\n",
       "      <td>Criollo</td>\n",
       "      <td>Venezuela</td>\n",
       "    </tr>\n",
       "    <tr>\n",
       "      <th>8</th>\n",
       "      <td>A. Morin</td>\n",
       "      <td>Puerto Cabello</td>\n",
       "      <td>1319</td>\n",
       "      <td>2014</td>\n",
       "      <td>70.0</td>\n",
       "      <td>France</td>\n",
       "      <td>3.75</td>\n",
       "      <td>Criollo</td>\n",
       "      <td>Venezuela</td>\n",
       "    </tr>\n",
       "    <tr>\n",
       "      <th>9</th>\n",
       "      <td>A. Morin</td>\n",
       "      <td>Pablino</td>\n",
       "      <td>1319</td>\n",
       "      <td>2014</td>\n",
       "      <td>70.0</td>\n",
       "      <td>France</td>\n",
       "      <td>4.00</td>\n",
       "      <td></td>\n",
       "      <td>Peru</td>\n",
       "    </tr>\n",
       "  </tbody>\n",
       "</table>\n",
       "</div>"
      ],
      "text/plain": [
       "  Company (Maker-if known) Specific Bean Origin or Bar Name   REF  \\\n",
       "0                 A. Morin                      Agua Grande  1876   \n",
       "1                 A. Morin                            Kpime  1676   \n",
       "2                 A. Morin                           Atsane  1676   \n",
       "3                 A. Morin                            Akata  1680   \n",
       "4                 A. Morin                           Quilla  1704   \n",
       "5                 A. Morin                         Carenero  1315   \n",
       "6                 A. Morin                             Cuba  1315   \n",
       "7                 A. Morin                     Sur del Lago  1315   \n",
       "8                 A. Morin                   Puerto Cabello  1319   \n",
       "9                 A. Morin                          Pablino  1319   \n",
       "\n",
       "   Review Date  Cocoa Percent Company Location  Rating Bean Type  \\\n",
       "0         2016           63.0           France    3.75             \n",
       "1         2015           70.0           France    2.75             \n",
       "2         2015           70.0           France    3.00             \n",
       "3         2015           70.0           France    3.50             \n",
       "4         2015           70.0           France    3.50             \n",
       "5         2014           70.0           France    2.75   Criollo   \n",
       "6         2014           70.0           France    3.50             \n",
       "7         2014           70.0           France    3.50   Criollo   \n",
       "8         2014           70.0           France    3.75   Criollo   \n",
       "9         2014           70.0           France    4.00             \n",
       "\n",
       "  Broad Bean Origin  \n",
       "0          Sao Tome  \n",
       "1              Togo  \n",
       "2              Togo  \n",
       "3              Togo  \n",
       "4              Peru  \n",
       "5         Venezuela  \n",
       "6              Cuba  \n",
       "7         Venezuela  \n",
       "8         Venezuela  \n",
       "9              Peru  "
      ]
     },
     "execution_count": 10,
     "metadata": {},
     "output_type": "execute_result"
    }
   ],
   "source": [
    "data.head(10)"
   ]
  },
  {
   "cell_type": "code",
   "execution_count": 36,
   "metadata": {
    "scrolled": true
   },
   "outputs": [
    {
     "name": "stdout",
     "output_type": "stream",
     "text": [
      "Review Year Quartiles:\n",
      "      Review Date     REF\n",
      "0.25       2010.0   576.0\n",
      "0.50       2013.0  1069.0\n",
      "0.75       2015.0  1502.0\n"
     ]
    },
    {
     "data": {
      "image/png": "[encoded data removed]",
      "text/plain": [
       "<Figure size 432x288 with 1 Axes>"
      ]
     },
     "metadata": {
      "needs_background": "light"
     },
     "output_type": "display_data"
    },
    {
     "data": {
      "image/png": "[encoded data removed]",
      "text/plain": [
       "<Figure size 432x288 with 2 Axes>"
      ]
     },
     "metadata": {
      "needs_background": "light"
     },
     "output_type": "display_data"
    }
   ],
   "source": [
    "# %% visualizing review years and Review Date (test-retest reliability)\n",
    "reviewYears = pd.DataFrame(data, columns = ['Review Date', 'REF'])\n",
    "\n",
    "print('Review Year Quartiles:')\n",
    "print(reviewYears.quantile([.25, .5, .75]))\n",
    "\n",
    "reviewYears.boxplot(column = 'Review Date')\n",
    "mpl.suptitle(\"Fig. 5: Box plot for review dates\")\n",
    "mpl.show()\n",
    "\n",
    "reviewYears.hist(bins = 30)\n",
    "mpl.suptitle(\"Fig. 6: Comparing REF metric and Review Dates\")\n",
    "mpl.show()"
   ]
  },
  {
   "cell_type": "code",
   "execution_count": 44,
   "metadata": {},
   "outputs": [
    {
     "data": {
      "text/html": [
       "<div>\n",
       "<style scoped>\n",
       "    .dataframe tbody tr th:only-of-type {\n",
       "        vertical-align: middle;\n",
       "    }\n",
       "\n",
       "    .dataframe tbody tr th {\n",
       "        vertical-align: top;\n",
       "    }\n",
       "\n",
       "    .dataframe thead th {\n",
       "        text-align: right;\n",
       "    }\n",
       "</style>\n",
       "<table border=\"1\" class=\"dataframe\">\n",
       "  <thead>\n",
       "    <tr style=\"text-align: right;\">\n",
       "      <th></th>\n",
       "      <th>Review Date</th>\n",
       "      <th>REF</th>\n",
       "    </tr>\n",
       "  </thead>\n",
       "  <tbody>\n",
       "    <tr>\n",
       "      <th>count</th>\n",
       "      <td>1795.000000</td>\n",
       "      <td>1795.000000</td>\n",
       "    </tr>\n",
       "    <tr>\n",
       "      <th>mean</th>\n",
       "      <td>2012.325348</td>\n",
       "      <td>1035.904735</td>\n",
       "    </tr>\n",
       "    <tr>\n",
       "      <th>std</th>\n",
       "      <td>2.927210</td>\n",
       "      <td>552.886365</td>\n",
       "    </tr>\n",
       "    <tr>\n",
       "      <th>min</th>\n",
       "      <td>2006.000000</td>\n",
       "      <td>5.000000</td>\n",
       "    </tr>\n",
       "    <tr>\n",
       "      <th>25%</th>\n",
       "      <td>2010.000000</td>\n",
       "      <td>576.000000</td>\n",
       "    </tr>\n",
       "    <tr>\n",
       "      <th>50%</th>\n",
       "      <td>2013.000000</td>\n",
       "      <td>1069.000000</td>\n",
       "    </tr>\n",
       "    <tr>\n",
       "      <th>75%</th>\n",
       "      <td>2015.000000</td>\n",
       "      <td>1502.000000</td>\n",
       "    </tr>\n",
       "    <tr>\n",
       "      <th>max</th>\n",
       "      <td>2017.000000</td>\n",
       "      <td>1952.000000</td>\n",
       "    </tr>\n",
       "  </tbody>\n",
       "</table>\n",
       "</div>"
      ],
      "text/plain": [
       "       Review Date          REF\n",
       "count  1795.000000  1795.000000\n",
       "mean   2012.325348  1035.904735\n",
       "std       2.927210   552.886365\n",
       "min    2006.000000     5.000000\n",
       "25%    2010.000000   576.000000\n",
       "50%    2013.000000  1069.000000\n",
       "75%    2015.000000  1502.000000\n",
       "max    2017.000000  1952.000000"
      ]
     },
     "execution_count": 44,
     "metadata": {},
     "output_type": "execute_result"
    }
   ],
   "source": [
    "reviewYears.describe()"
   ]
  },
  {
   "cell_type": "code",
   "execution_count": 12,
   "metadata": {},
   "outputs": [
    {
     "data": {
      "image/png": "[encoded data removed]",
      "text/plain": [
       "<Figure size 432x288 with 1 Axes>"
      ]
     },
     "metadata": {
      "needs_background": "light"
     },
     "output_type": "display_data"
    },
    {
     "data": {
      "image/png": "[encoded data removed]",
      "text/plain": [
       "<Figure size 432x288 with 1 Axes>"
      ]
     },
     "metadata": {
      "needs_background": "light"
     },
     "output_type": "display_data"
    }
   ],
   "source": [
    "# %% visualizing ratings\n",
    "ratings = pd.DataFrame(data, columns = ['Rating'])\n",
    "ratings.boxplot()\n",
    "ratings.hist(bins = 25)\n",
    "mpl.show()"
   ]
  },
  {
   "cell_type": "code",
   "execution_count": 14,
   "metadata": {},
   "outputs": [
    {
     "name": "stdout",
     "output_type": "stream",
     "text": [
      "('Number of companies ', 416)\n",
      "('Number of locations ', 60)\n"
     ]
    }
   ],
   "source": [
    "# %% get unique Company names, and company locations\n",
    "companies = data['Company (Maker-if known)'].unique()\n",
    "print('Number of companies ', len(companies))\n",
    "\n",
    "countries = data['Company Location'].unique()\n",
    "print('Number of locations ', len(countries))"
   ]
  },
  {
   "cell_type": "code",
   "execution_count": 15,
   "metadata": {},
   "outputs": [
    {
     "data": {
      "text/plain": [
       "Soma                                      47\n",
       "Bonnat                                    27\n",
       "Fresco                                    26\n",
       "Pralus                                    25\n",
       "A. Morin                                  23\n",
       "Guittard                                  22\n",
       "Domori                                    22\n",
       "Arete                                     22\n",
       "Valrhona                                  21\n",
       "Hotel Chocolat (Coppeneur)                19\n",
       "Coppeneur                                 18\n",
       "Mast Brothers                             18\n",
       "Zotter                                    17\n",
       "Scharffen Berger                          17\n",
       "Dandelion                                 16\n",
       "Rogue                                     16\n",
       "Artisan du Chocolat                       16\n",
       "Smooth Chocolator, The                    16\n",
       "Szanto Tibor                              15\n",
       "Tejas                                     14\n",
       "Bittersweet Origins                       14\n",
       "Pierre Marcolini                          14\n",
       "Castronovo                                14\n",
       "Amedei                                    13\n",
       "Dick Taylor                               13\n",
       "Pacari                                    13\n",
       "Duffy's                                   13\n",
       "Friis Holm (Bonnat)                       12\n",
       "Madre                                     11\n",
       "Palette de Bine                           11\n",
       "                                          ..\n",
       "Svenska Kakaobolaget                       1\n",
       "Animas                                     1\n",
       "Chuao Chocolatier (Pralus)                 1\n",
       "Malagos                                    1\n",
       "Indah                                      1\n",
       "The Barn                                   1\n",
       "Jacque Torres                              1\n",
       "Love Bar                                   1\n",
       "Coleman & Davis                            1\n",
       "Indi                                       1\n",
       "Rococo (Grenada Chocolate Co.)             1\n",
       "Dalloway                                   1\n",
       "Fearless (AMMA)                            1\n",
       "Raw Cocoa                                  1\n",
       "Peppalo                                    1\n",
       "Sibu Sura                                  1\n",
       "Bronx Grrl Chocolate                       1\n",
       "Oialla by Bojessen (Malmo)                 1\n",
       "Shattel                                    1\n",
       "Heirloom Cacao Preservation (Fruition)     1\n",
       "Vietcacao (A. Morin)                       1\n",
       "Nanea                                      1\n",
       "Chocosol                                   1\n",
       "Charm School                               1\n",
       "Condor                                     1\n",
       "Kiskadee                                   1\n",
       "Ki' Xocolatl                               1\n",
       "Confluence                                 1\n",
       "Timo A. Meyer                              1\n",
       "Dole (Guittard)                            1\n",
       "Name: Company (Maker-if known), Length: 416, dtype: int64"
      ]
     },
     "execution_count": 15,
     "metadata": {},
     "output_type": "execute_result"
    }
   ],
   "source": [
    "# %% get number of chocolates reviewed per company\n",
    "data['Company (Maker-if known)'].value_counts()"
   ]
  },
  {
   "cell_type": "code",
   "execution_count": 16,
   "metadata": {},
   "outputs": [
    {
     "data": {
      "text/plain": [
       "array(['Bonnat', 'Soma'], dtype=object)"
      ]
     },
     "execution_count": 16,
     "metadata": {},
     "output_type": "execute_result"
    }
   ],
   "source": [
    "# %% save chocolate data for top 2 companies in terms of rating frequency \n",
    "filterCompanies = ['Soma', 'Bonnat']\n",
    "soma_bonnatChocolates = data[data['Company (Maker-if known)'].isin(filterCompanies)]\n",
    "\n",
    "# confirming selection\n",
    "soma_bonnatChocolates['Company (Maker-if known)'].unique()"
   ]
  },
  {
   "cell_type": "code",
   "execution_count": 17,
   "metadata": {},
   "outputs": [
    {
     "data": {
      "image/png": "[encoded data removed]",
      "text/plain": [
       "<Figure size 432x288 with 2 Axes>"
      ]
     },
     "metadata": {
      "needs_background": "light"
     },
     "output_type": "display_data"
    },
    {
     "data": {
      "image/png": "[encoded data removed]",
      "text/plain": [
       "<Figure size 432x288 with 2 Axes>"
      ]
     },
     "metadata": {
      "needs_background": "light"
     },
     "output_type": "display_data"
    }
   ],
   "source": [
    "# %% get cocoa percent and ratings for selected chocolates \n",
    "FILTER_BINS = 15\n",
    "\n",
    "somaChoc_cocoaRating = pd.DataFrame(data[data['Company (Maker-if known)'].str.contains(filterCompanies[0])], columns = ['Cocoa Percent', 'Rating'])\n",
    "somaChoc_cocoaRating.hist(bins = FILTER_BINS)\n",
    "mpl.show()\n",
    "\n",
    "bonnatChoc_cocoaRating = pd.DataFrame(data[data['Company (Maker-if known)'].str.contains(filterCompanies[1])], columns = ['Cocoa Percent', 'Rating'])\n",
    "bonnatChoc_cocoaRating.hist(bins = FILTER_BINS)\n",
    "mpl.show()"
   ]
  },
  {
   "cell_type": "code",
   "execution_count": 18,
   "metadata": {},
   "outputs": [
    {
     "data": {
      "image/png": "[encoded data removed]",
      "text/plain": [
       "<Figure size 432x288 with 1 Axes>"
      ]
     },
     "metadata": {
      "needs_background": "light"
     },
     "output_type": "display_data"
    }
   ],
   "source": [
    "# %% get cocoa percent and ratings for selected chocolates \n",
    "# ref https://stackoverflow.com/a/61518708/1446598\n",
    "\n",
    "mpl.hist([bonnatChoc_cocoaRating['Rating'], somaChoc_cocoaRating['Rating']], \n",
    "         bins = FILTER_BINS, alpha = 0.3, label = ['Bonnat', 'Soma'])\n",
    "mpl.suptitle(\"Comparing Bonnat and Soma ratings\")\n",
    "mpl.legend(loc = 'upper left')\n",
    "mpl.show() "
   ]
  },
  {
   "cell_type": "code",
   "execution_count": 22,
   "metadata": {},
   "outputs": [
    {
     "data": {
      "image/png": "[encoded data removed]",
      "text/plain": [
       "<Figure size 432x288 with 1 Axes>"
      ]
     },
     "metadata": {
      "needs_background": "light"
     },
     "output_type": "display_data"
    }
   ],
   "source": [
    "# %% Exploring correleation between cocoa percent and rating\n",
    "data.plot.scatter('Cocoa Percent', 'Rating')\n",
    "mpl.suptitle(\"Correlation between Ratings and Cocoa Percent\")\n",
    "mpl.show()"
   ]
  },
  {
   "cell_type": "code",
   "execution_count": 30,
   "metadata": {},
   "outputs": [
    {
     "data": {
      "image/png": "[encoded data removed]",
      "text/plain": [
       "<Figure size 432x288 with 1 Axes>"
      ]
     },
     "metadata": {
      "needs_background": "light"
     },
     "output_type": "display_data"
    },
    {
     "data": {
      "image/png": "[encoded data removed]",
      "text/plain": [
       "<Figure size 432x288 with 1 Axes>"
      ]
     },
     "metadata": {
      "needs_background": "light"
     },
     "output_type": "display_data"
    },
    {
     "name": "stdout",
     "output_type": "stream",
     "text": [
      "Ratings Post 2016 quartiles:\n",
      "         REF  Review Date  Cocoa Percent  Rating\n",
      "0.25  1936.0       2017.0          70.00    3.25\n",
      "0.50  1940.0       2017.0          70.00    3.50\n",
      "0.75  1948.0       2017.0          72.25    3.50\n"
     ]
    }
   ],
   "source": [
    "# %% Exploring correleation between rating's publication year and rating\n",
    "data.plot.scatter('Review Date', 'Rating')\n",
    "mpl.suptitle(\"Correlation between Review Year and Rating\")\n",
    "mpl.show()\n",
    "\n",
    "ratingsPost2016 = data[data['Review Date'] > 2016]\n",
    "ratingsPost2016.boxplot(column = 'Rating')\n",
    "mpl.show()\n",
    "\n",
    "print('Ratings Post 2016 quartiles:')\n",
    "print(ratingsPost2016.quantile([.25, .5, .75]))"
   ]
  },
  {
   "cell_type": "code",
   "execution_count": 31,
   "metadata": {},
   "outputs": [
    {
     "data": {
      "text/html": [
       "<div>\n",
       "<style scoped>\n",
       "    .dataframe tbody tr th:only-of-type {\n",
       "        vertical-align: middle;\n",
       "    }\n",
       "\n",
       "    .dataframe tbody tr th {\n",
       "        vertical-align: top;\n",
       "    }\n",
       "\n",
       "    .dataframe thead th {\n",
       "        text-align: right;\n",
       "    }\n",
       "</style>\n",
       "<table border=\"1\" class=\"dataframe\">\n",
       "  <thead>\n",
       "    <tr style=\"text-align: right;\">\n",
       "      <th></th>\n",
       "      <th>REF</th>\n",
       "      <th>Review Date</th>\n",
       "      <th>Cocoa Percent</th>\n",
       "      <th>Rating</th>\n",
       "    </tr>\n",
       "  </thead>\n",
       "  <tbody>\n",
       "    <tr>\n",
       "      <th>count</th>\n",
       "      <td>24.000000</td>\n",
       "      <td>24.0</td>\n",
       "      <td>24.000000</td>\n",
       "      <td>24.000000</td>\n",
       "    </tr>\n",
       "    <tr>\n",
       "      <th>mean</th>\n",
       "      <td>1941.000000</td>\n",
       "      <td>2017.0</td>\n",
       "      <td>71.541667</td>\n",
       "      <td>3.312500</td>\n",
       "    </tr>\n",
       "    <tr>\n",
       "      <th>std</th>\n",
       "      <td>7.199034</td>\n",
       "      <td>0.0</td>\n",
       "      <td>2.702321</td>\n",
       "      <td>0.331744</td>\n",
       "    </tr>\n",
       "    <tr>\n",
       "      <th>min</th>\n",
       "      <td>1928.000000</td>\n",
       "      <td>2017.0</td>\n",
       "      <td>70.000000</td>\n",
       "      <td>2.500000</td>\n",
       "    </tr>\n",
       "    <tr>\n",
       "      <th>25%</th>\n",
       "      <td>1936.000000</td>\n",
       "      <td>2017.0</td>\n",
       "      <td>70.000000</td>\n",
       "      <td>3.250000</td>\n",
       "    </tr>\n",
       "    <tr>\n",
       "      <th>50%</th>\n",
       "      <td>1940.000000</td>\n",
       "      <td>2017.0</td>\n",
       "      <td>70.000000</td>\n",
       "      <td>3.500000</td>\n",
       "    </tr>\n",
       "    <tr>\n",
       "      <th>75%</th>\n",
       "      <td>1948.000000</td>\n",
       "      <td>2017.0</td>\n",
       "      <td>72.250000</td>\n",
       "      <td>3.500000</td>\n",
       "    </tr>\n",
       "    <tr>\n",
       "      <th>max</th>\n",
       "      <td>1952.000000</td>\n",
       "      <td>2017.0</td>\n",
       "      <td>80.000000</td>\n",
       "      <td>3.750000</td>\n",
       "    </tr>\n",
       "  </tbody>\n",
       "</table>\n",
       "</div>"
      ],
      "text/plain": [
       "               REF  Review Date  Cocoa Percent     Rating\n",
       "count    24.000000         24.0      24.000000  24.000000\n",
       "mean   1941.000000       2017.0      71.541667   3.312500\n",
       "std       7.199034          0.0       2.702321   0.331744\n",
       "min    1928.000000       2017.0      70.000000   2.500000\n",
       "25%    1936.000000       2017.0      70.000000   3.250000\n",
       "50%    1940.000000       2017.0      70.000000   3.500000\n",
       "75%    1948.000000       2017.0      72.250000   3.500000\n",
       "max    1952.000000       2017.0      80.000000   3.750000"
      ]
     },
     "execution_count": 31,
     "metadata": {},
     "output_type": "execute_result"
    }
   ],
   "source": [
    "ratingsPost2016.describe()"
   ]
  }
 ],
 "metadata": {
  "kernelspec": {
   "display_name": "Python 2",
   "language": "python",
   "name": "python2"
  },
  "language_info": {
   "codemirror_mode": {
    "name": "ipython",
    "version": 2
   },
   "file_extension": ".py",
   "mimetype": "text/x-python",
   "name": "python",
   "nbconvert_exporter": "python",
   "pygments_lexer": "ipython2",
   "version": "2.7.17"
  }
 },
 "nbformat": 4,
 "nbformat_minor": 2
}
